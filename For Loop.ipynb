{
 "cells": [
  {
   "cell_type": "markdown",
   "id": "21b4bd77",
   "metadata": {},
   "source": [
    "# For"
   ]
  },
  {
   "cell_type": "markdown",
   "id": "79bc25c8",
   "metadata": {},
   "source": [
    "* For adalah fungsi yang dapat melakukan perulangan pada sestiap jenis variable berupa kumpalan atau urutan\n",
    "* Variable yang dimaksud bisa berupa list, string, ataupun range\n",
    "* Jika sebuah list atau urutan berisi expression, maka ia akan dievaluasi terlebih dahulu\n",
    "* Kemudian item pertama pada urutan/list akan diassign sebagai variabel iterating_var\n",
    "* Setelahnya, blok statement akan dieksekusi, berlanjut ke item berikutnya, berulang, hingga seluruh urutan habis"
   ]
  },
  {
   "cell_type": "code",
   "execution_count": 1,
   "id": "3b4c956d",
   "metadata": {},
   "outputs": [
    {
     "name": "stdout",
     "output_type": "stream",
     "text": [
      "huruf d\n",
      "huruf a\n",
      "huruf t\n",
      "huruf a\n"
     ]
    }
   ],
   "source": [
    "for i in 'data':\n",
    "    print(\"huruf {}\". format(i))"
   ]
  },
  {
   "cell_type": "code",
   "execution_count": 2,
   "id": "2cd0a550",
   "metadata": {},
   "outputs": [
    {
     "name": "stdout",
     "output_type": "stream",
     "text": [
      "d\n",
      "a\n",
      "t\n",
      "a\n"
     ]
    }
   ],
   "source": [
    "for a in 'data':\n",
    "    print(a)"
   ]
  },
  {
   "cell_type": "code",
   "execution_count": 3,
   "id": "5bfe0efa",
   "metadata": {},
   "outputs": [
    {
     "name": "stdout",
     "output_type": "stream",
     "text": [
      "warna merah\n",
      "warna kuning\n",
      "warna hijau\n"
     ]
    }
   ],
   "source": [
    "color = ['merah', 'kuning', 'hijau']\n",
    "\n",
    "for i in color:\n",
    "    print(\"warna {}\". format(i))"
   ]
  },
  {
   "cell_type": "code",
   "execution_count": 4,
   "id": "70ba1eeb",
   "metadata": {},
   "outputs": [
    {
     "name": "stdout",
     "output_type": "stream",
     "text": [
      "0\n",
      "1\n",
      "2\n"
     ]
    }
   ],
   "source": [
    "for i in range(3):\n",
    "    print(i)"
   ]
  },
  {
   "cell_type": "code",
   "execution_count": 5,
   "id": "7b59d386",
   "metadata": {},
   "outputs": [
    {
     "name": "stdout",
     "output_type": "stream",
     "text": [
      "1\n",
      "2\n",
      "3\n"
     ]
    }
   ],
   "source": [
    "for i in range(1,4):\n",
    "    print(i)"
   ]
  },
  {
   "cell_type": "markdown",
   "id": "7558435f",
   "metadata": {},
   "source": [
    "For bertingkat"
   ]
  },
  {
   "cell_type": "code",
   "execution_count": 12,
   "id": "ca2f75d7",
   "metadata": {},
   "outputs": [
    {
     "name": "stdout",
     "output_type": "stream",
     "text": [
      "* * * \n",
      "* * \n",
      "* \n"
     ]
    }
   ],
   "source": [
    "for row in range(3):\n",
    "    for col in range(3):\n",
    "        if row == 0 and col <= 2:\n",
    "            print(\"*\", end = \" \")\n",
    "        elif row == 1 and col <= 1:\n",
    "            print(\"*\", end = \" \")\n",
    "        elif row == 2 and col <= 0:\n",
    "            print(\"*\", end = \" \")\n",
    "    print()"
   ]
  },
  {
   "cell_type": "markdown",
   "id": "1307e1c0",
   "metadata": {},
   "source": [
    "--Task 2--\n",
    "- for loop\n",
    "- string\n",
    "- list"
   ]
  },
  {
   "cell_type": "code",
   "execution_count": 7,
   "id": "7d0739b3",
   "metadata": {},
   "outputs": [
    {
     "name": "stdout",
     "output_type": "stream",
     "text": [
      "a\n",
      "n\n",
      "a\n",
      "l\n",
      "y\n",
      "s\n",
      "t\n"
     ]
    }
   ],
   "source": [
    "for i in 'analyst':\n",
    "    print(i)"
   ]
  },
  {
   "cell_type": "code",
   "execution_count": 8,
   "id": "dd46643f",
   "metadata": {},
   "outputs": [
    {
     "name": "stdout",
     "output_type": "stream",
     "text": [
      "angka 1\n",
      "angka 2\n",
      "angka 3\n",
      "angka 4\n",
      "angka 5\n",
      "angka 6\n",
      "angka 7\n"
     ]
    }
   ],
   "source": [
    "daftar_angka = [1, 2, 3, 4, 5, 6, 7]\n",
    "\n",
    "for i in daftar_angka:\n",
    "    print(\"angka {}\". format(i))"
   ]
  },
  {
   "cell_type": "code",
   "execution_count": 9,
   "id": "4df7c750",
   "metadata": {},
   "outputs": [
    {
     "name": "stdout",
     "output_type": "stream",
     "text": [
      "Perulangan ke- 1\n",
      "Perulangan ke- 2\n",
      "Perulangan ke- 3\n",
      "Perulangan ke- 4\n",
      "Perulangan ke- 5\n"
     ]
    }
   ],
   "source": [
    "for i in range(5):\n",
    "    print(\"Perulangan ke-\", i+1)"
   ]
  },
  {
   "cell_type": "markdown",
   "id": "4420fba5",
   "metadata": {},
   "source": [
    "--Task 3--\n",
    "- for loop\n",
    "- range 1 param\n",
    "- range 2 param"
   ]
  },
  {
   "cell_type": "code",
   "execution_count": 10,
   "id": "00a988d2",
   "metadata": {},
   "outputs": [
    {
     "name": "stdout",
     "output_type": "stream",
     "text": [
      "0\n",
      "1\n",
      "2\n",
      "3\n",
      "4\n"
     ]
    }
   ],
   "source": [
    "for i in range(5):\n",
    "    print(i)"
   ]
  },
  {
   "cell_type": "code",
   "execution_count": 11,
   "id": "2cfe95b5",
   "metadata": {},
   "outputs": [
    {
     "name": "stdout",
     "output_type": "stream",
     "text": [
      "16\n",
      "17\n",
      "18\n",
      "19\n",
      "20\n"
     ]
    }
   ],
   "source": [
    "for i in range(16,21):\n",
    "    print(i)"
   ]
  },
  {
   "cell_type": "markdown",
   "id": "f5cdad34",
   "metadata": {},
   "source": [
    "--Task 4--\n",
    "- for loop bertingkat\n",
    "- outnya serupa gambar"
   ]
  },
  {
   "cell_type": "code",
   "execution_count": 14,
   "id": "119bee9f",
   "metadata": {},
   "outputs": [
    {
     "name": "stdout",
     "output_type": "stream",
     "text": [
      "* * * * \n",
      "* * * \n",
      "* * \n",
      "* \n"
     ]
    }
   ],
   "source": [
    "for row in range(4):\n",
    "    for col in range(4):\n",
    "        if row == 0 and col <= 3:\n",
    "            print(\"*\", end = \" \")\n",
    "        elif row == 1 and col <= 2:\n",
    "            print(\"*\", end = \" \")\n",
    "        elif row == 2 and col <= 1:\n",
    "            print(\"*\", end = \" \")\n",
    "        elif row == 3 and col <= 0:\n",
    "            print(\"*\", end = \" \")\n",
    "    print()"
   ]
  },
  {
   "cell_type": "code",
   "execution_count": null,
   "id": "66c23644",
   "metadata": {},
   "outputs": [],
   "source": []
  }
 ],
 "metadata": {
  "kernelspec": {
   "display_name": "Python 3 (ipykernel)",
   "language": "python",
   "name": "python3"
  },
  "language_info": {
   "codemirror_mode": {
    "name": "ipython",
    "version": 3
   },
   "file_extension": ".py",
   "mimetype": "text/x-python",
   "name": "python",
   "nbconvert_exporter": "python",
   "pygments_lexer": "ipython3",
   "version": "3.11.4"
  }
 },
 "nbformat": 4,
 "nbformat_minor": 5
}
