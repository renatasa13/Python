{
 "cells": [
  {
   "cell_type": "markdown",
   "id": "a5e7f1c3",
   "metadata": {},
   "source": [
    "# List"
   ]
  },
  {
   "cell_type": "markdown",
   "id": "fefaca4c",
   "metadata": {},
   "source": [
    "Lists are a type of ordered data collection and are one of the frequently used variables in Python. List elements in Python do not have to have the same data type. Lists are declared with square brackets and commas as separating elements."
   ]
  },
  {
   "cell_type": "code",
   "execution_count": 4,
   "id": "3cce5b77",
   "metadata": {},
   "outputs": [],
   "source": [
    "n = [1,2,3,4,5,6,7,8,9,10,11,12,13]"
   ]
  },
  {
   "cell_type": "code",
   "execution_count": 5,
   "id": "e280fdcc",
   "metadata": {},
   "outputs": [
    {
     "data": {
      "text/plain": [
       "13"
      ]
     },
     "execution_count": 5,
     "metadata": {},
     "output_type": "execute_result"
    }
   ],
   "source": [
    "len (n)"
   ]
  },
  {
   "cell_type": "code",
   "execution_count": 7,
   "id": "ee400e1f",
   "metadata": {},
   "outputs": [
    {
     "data": {
      "text/plain": [
       "10"
      ]
     },
     "execution_count": 7,
     "metadata": {},
     "output_type": "execute_result"
    }
   ],
   "source": [
    "n[9]"
   ]
  },
  {
   "cell_type": "code",
   "execution_count": 9,
   "id": "c823616d",
   "metadata": {},
   "outputs": [],
   "source": [
    "n[0] = 1"
   ]
  },
  {
   "cell_type": "code",
   "execution_count": 10,
   "id": "2ee743ff",
   "metadata": {},
   "outputs": [
    {
     "name": "stdout",
     "output_type": "stream",
     "text": [
      "[1, 2, 3, 4, 5, 6, 7, 8, 9, 10, 11, 12, 13]\n"
     ]
    }
   ],
   "source": [
    "print(n)"
   ]
  },
  {
   "cell_type": "markdown",
   "id": "a57d74a3",
   "metadata": {},
   "source": [
    "### Append"
   ]
  },
  {
   "cell_type": "code",
   "execution_count": 11,
   "id": "bb5651f5",
   "metadata": {},
   "outputs": [],
   "source": [
    "n.append(16) # add item value"
   ]
  },
  {
   "cell_type": "code",
   "execution_count": 12,
   "id": "53f618f1",
   "metadata": {},
   "outputs": [
    {
     "name": "stdout",
     "output_type": "stream",
     "text": [
      "[1, 2, 3, 4, 5, 6, 7, 8, 9, 10, 11, 12, 13, 16]\n"
     ]
    }
   ],
   "source": [
    "print(n)"
   ]
  },
  {
   "cell_type": "code",
   "execution_count": 13,
   "id": "14bd2915",
   "metadata": {},
   "outputs": [
    {
     "data": {
      "text/plain": [
       "14"
      ]
     },
     "execution_count": 13,
     "metadata": {},
     "output_type": "execute_result"
    }
   ],
   "source": [
    "len(n)"
   ]
  },
  {
   "cell_type": "markdown",
   "id": "d6245d2c",
   "metadata": {},
   "source": [
    "### Delete"
   ]
  },
  {
   "cell_type": "code",
   "execution_count": 14,
   "id": "6840444b",
   "metadata": {},
   "outputs": [],
   "source": [
    "del n[0] # delete item value"
   ]
  },
  {
   "cell_type": "code",
   "execution_count": 15,
   "id": "9f8e6c1d",
   "metadata": {},
   "outputs": [
    {
     "name": "stdout",
     "output_type": "stream",
     "text": [
      "[2, 3, 4, 5, 6, 7, 8, 9, 10, 11, 12, 13, 16]\n"
     ]
    }
   ],
   "source": [
    "print(n)"
   ]
  },
  {
   "cell_type": "markdown",
   "id": "3588bfd8",
   "metadata": {},
   "source": [
    "Task"
   ]
  },
  {
   "cell_type": "code",
   "execution_count": 16,
   "id": "8fb0cc2a",
   "metadata": {},
   "outputs": [],
   "source": [
    "r = [2,4,8,10,12,14,16,18,20,22,24,26,28,30,32]"
   ]
  },
  {
   "cell_type": "code",
   "execution_count": 17,
   "id": "5e8170ea",
   "metadata": {},
   "outputs": [
    {
     "data": {
      "text/plain": [
       "15"
      ]
     },
     "execution_count": 17,
     "metadata": {},
     "output_type": "execute_result"
    }
   ],
   "source": [
    "len(r)"
   ]
  },
  {
   "cell_type": "code",
   "execution_count": 18,
   "id": "c2f821f5",
   "metadata": {},
   "outputs": [],
   "source": [
    "r[3] = 8"
   ]
  },
  {
   "cell_type": "code",
   "execution_count": 19,
   "id": "50cd60a9",
   "metadata": {},
   "outputs": [
    {
     "data": {
      "text/plain": [
       "15"
      ]
     },
     "execution_count": 19,
     "metadata": {},
     "output_type": "execute_result"
    }
   ],
   "source": [
    "len(r)"
   ]
  },
  {
   "cell_type": "code",
   "execution_count": 20,
   "id": "d401515d",
   "metadata": {},
   "outputs": [],
   "source": [
    "r.append(34)"
   ]
  },
  {
   "cell_type": "code",
   "execution_count": 21,
   "id": "d3695557",
   "metadata": {},
   "outputs": [
    {
     "data": {
      "text/plain": [
       "16"
      ]
     },
     "execution_count": 21,
     "metadata": {},
     "output_type": "execute_result"
    }
   ],
   "source": [
    "len(r)"
   ]
  },
  {
   "cell_type": "code",
   "execution_count": 22,
   "id": "89175f63",
   "metadata": {},
   "outputs": [],
   "source": [
    "del r[8]"
   ]
  },
  {
   "cell_type": "code",
   "execution_count": 23,
   "id": "825c4f91",
   "metadata": {},
   "outputs": [
    {
     "data": {
      "text/plain": [
       "15"
      ]
     },
     "execution_count": 23,
     "metadata": {},
     "output_type": "execute_result"
    }
   ],
   "source": [
    "len(r)"
   ]
  },
  {
   "cell_type": "code",
   "execution_count": 1,
   "id": "eaf8de52",
   "metadata": {},
   "outputs": [
    {
     "name": "stdout",
     "output_type": "stream",
     "text": [
      "['apple', 'banana', 'cherry']\n"
     ]
    }
   ],
   "source": [
    "fruit = [\"apple\", \"banana\", \"cherry\"]\n",
    "print(fruit)"
   ]
  },
  {
   "cell_type": "code",
   "execution_count": 3,
   "id": "51b8091d",
   "metadata": {},
   "outputs": [
    {
     "name": "stdout",
     "output_type": "stream",
     "text": [
      "['apple', 'watermelon', 'cherry']\n"
     ]
    }
   ],
   "source": [
    "fruit = [\"apple\", \"banana\", \"cherry\"]\n",
    "fruit[1] = \"watermelon\"\n",
    "print(fruit)\n"
   ]
  }
 ],
 "metadata": {
  "kernelspec": {
   "display_name": "Python 3 (ipykernel)",
   "language": "python",
   "name": "python3"
  },
  "language_info": {
   "codemirror_mode": {
    "name": "ipython",
    "version": 3
   },
   "file_extension": ".py",
   "mimetype": "text/x-python",
   "name": "python",
   "nbconvert_exporter": "python",
   "pygments_lexer": "ipython3",
   "version": "3.11.4"
  }
 },
 "nbformat": 4,
 "nbformat_minor": 5
}
