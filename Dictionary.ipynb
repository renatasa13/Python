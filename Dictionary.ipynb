{
 "cells": [
  {
   "cell_type": "markdown",
   "id": "6ff17f92",
   "metadata": {},
   "source": [
    "# Dictionary"
   ]
  },
  {
   "cell_type": "markdown",
   "id": "c25a8a03",
   "metadata": {},
   "source": [
    "A dictionary in Python is a collection of unordered key-value pairs. Dictionaries can be used to store small to large data. To access the data, we must know the key. In Python, a dictionary is defined with curly braces and additional definitions:\n",
    "\n",
    "* Each element of a key-value pair is separated by (,).\n",
    "* Key and Value are separated by a colon (:).\n",
    "* Keys and values can be any type of variable/object."
   ]
  },
  {
   "cell_type": "code",
   "execution_count": 1,
   "id": "fc0367f7",
   "metadata": {},
   "outputs": [],
   "source": [
    "a = {\"nama\": \"Nam Do San\", \"usia\": 25}"
   ]
  },
  {
   "cell_type": "code",
   "execution_count": 2,
   "id": "d2bfc6f5",
   "metadata": {},
   "outputs": [
    {
     "data": {
      "text/plain": [
       "dict"
      ]
     },
     "execution_count": 2,
     "metadata": {},
     "output_type": "execute_result"
    }
   ],
   "source": [
    "type(a)"
   ]
  },
  {
   "cell_type": "code",
   "execution_count": 3,
   "id": "f234f7df",
   "metadata": {},
   "outputs": [
    {
     "data": {
      "text/plain": [
       "'Nam Do San'"
      ]
     },
     "execution_count": 3,
     "metadata": {},
     "output_type": "execute_result"
    }
   ],
   "source": [
    "a[\"nama\"]"
   ]
  },
  {
   "cell_type": "code",
   "execution_count": 4,
   "id": "0237933b",
   "metadata": {},
   "outputs": [
    {
     "ename": "KeyError",
     "evalue": "'Nam Do San'",
     "output_type": "error",
     "traceback": [
      "\u001b[1;31m---------------------------------------------------------------------------\u001b[0m",
      "\u001b[1;31mKeyError\u001b[0m                                  Traceback (most recent call last)",
      "Input \u001b[1;32mIn [4]\u001b[0m, in \u001b[0;36m<cell line: 1>\u001b[1;34m()\u001b[0m\n\u001b[1;32m----> 1\u001b[0m \u001b[43ma\u001b[49m\u001b[43m[\u001b[49m\u001b[38;5;124;43m\"\u001b[39;49m\u001b[38;5;124;43mNam Do San\u001b[39;49m\u001b[38;5;124;43m\"\u001b[39;49m\u001b[43m]\u001b[49m\n",
      "\u001b[1;31mKeyError\u001b[0m: 'Nam Do San'"
     ]
    }
   ],
   "source": [
    "a[\"Nam Do San\"]"
   ]
  },
  {
   "cell_type": "code",
   "execution_count": 5,
   "id": "2c13eb19",
   "metadata": {},
   "outputs": [
    {
     "data": {
      "text/plain": [
       "25"
      ]
     },
     "execution_count": 5,
     "metadata": {},
     "output_type": "execute_result"
    }
   ],
   "source": [
    "a[\"usia\"]"
   ]
  },
  {
   "cell_type": "markdown",
   "id": "52f691a7",
   "metadata": {},
   "source": [
    "Dictionary bukan termasuk dalam implementasi urutan (squences), sehingga tidak bisa dipanggil dengan urutan indeks. Misalnya dalam contoh berikut dicoba indeks 0, tetapi menghasilkan error (KeyError) karena tidak ada kunci (key) 0."
   ]
  },
  {
   "cell_type": "code",
   "execution_count": 6,
   "id": "af905ba4",
   "metadata": {},
   "outputs": [
    {
     "ename": "KeyError",
     "evalue": "0",
     "output_type": "error",
     "traceback": [
      "\u001b[1;31m---------------------------------------------------------------------------\u001b[0m",
      "\u001b[1;31mKeyError\u001b[0m                                  Traceback (most recent call last)",
      "Input \u001b[1;32mIn [6]\u001b[0m, in \u001b[0;36m<cell line: 1>\u001b[1;34m()\u001b[0m\n\u001b[1;32m----> 1\u001b[0m \u001b[43ma\u001b[49m\u001b[43m[\u001b[49m\u001b[38;5;241;43m0\u001b[39;49m\u001b[43m]\u001b[49m\n",
      "\u001b[1;31mKeyError\u001b[0m: 0"
     ]
    }
   ],
   "source": [
    "a[0]"
   ]
  },
  {
   "cell_type": "markdown",
   "id": "02bc034c",
   "metadata": {},
   "source": [
    "--Task 2 bikin dict--\n",
    "- kelompok, nama, pathway\n",
    "- nama: semua anggota kelompok"
   ]
  },
  {
   "cell_type": "code",
   "execution_count": 7,
   "id": "f5a8f1fa",
   "metadata": {},
   "outputs": [],
   "source": [
    "c = {\"kelompok\": 5, \"nama\": (\"Renata\", \"Nirmala\", \"Novan\", \"Ardi\"), \"pathway\": \"Data Analyst\"}"
   ]
  },
  {
   "cell_type": "code",
   "execution_count": 8,
   "id": "c7f21679",
   "metadata": {},
   "outputs": [
    {
     "name": "stdout",
     "output_type": "stream",
     "text": [
      "{'kelompok': 5, 'nama': ('Renata', 'Nirmala', 'Novan', 'Ardi'), 'pathway': 'Data Analyst'}\n"
     ]
    }
   ],
   "source": [
    "print(c)"
   ]
  },
  {
   "cell_type": "code",
   "execution_count": 9,
   "id": "2b610afa",
   "metadata": {},
   "outputs": [
    {
     "data": {
      "text/plain": [
       "('Renata', 'Nirmala', 'Novan', 'Ardi')"
      ]
     },
     "execution_count": 9,
     "metadata": {},
     "output_type": "execute_result"
    }
   ],
   "source": [
    "c[\"nama\"]"
   ]
  },
  {
   "cell_type": "code",
   "execution_count": 10,
   "id": "5dfde5d9",
   "metadata": {},
   "outputs": [
    {
     "data": {
      "text/plain": [
       "'Nirmala'"
      ]
     },
     "execution_count": 10,
     "metadata": {},
     "output_type": "execute_result"
    }
   ],
   "source": [
    "c[\"nama\"][1]"
   ]
  },
  {
   "cell_type": "code",
   "execution_count": 11,
   "id": "48589b9b",
   "metadata": {},
   "outputs": [
    {
     "data": {
      "text/plain": [
       "'Renata'"
      ]
     },
     "execution_count": 11,
     "metadata": {},
     "output_type": "execute_result"
    }
   ],
   "source": [
    "c[\"nama\"][0]"
   ]
  },
  {
   "cell_type": "code",
   "execution_count": 12,
   "id": "e372e50a",
   "metadata": {},
   "outputs": [
    {
     "data": {
      "text/plain": [
       "'Novan'"
      ]
     },
     "execution_count": 12,
     "metadata": {},
     "output_type": "execute_result"
    }
   ],
   "source": [
    "c[\"nama\"][2]"
   ]
  },
  {
   "cell_type": "code",
   "execution_count": 13,
   "id": "32c70a51",
   "metadata": {},
   "outputs": [
    {
     "data": {
      "text/plain": [
       "'Ardi'"
      ]
     },
     "execution_count": 13,
     "metadata": {},
     "output_type": "execute_result"
    }
   ],
   "source": [
    "c[\"nama\"][3]"
   ]
  },
  {
   "cell_type": "code",
   "execution_count": null,
   "id": "dacf84f9",
   "metadata": {},
   "outputs": [],
   "source": []
  }
 ],
 "metadata": {
  "kernelspec": {
   "display_name": "Python 3 (ipykernel)",
   "language": "python",
   "name": "python3"
  },
  "language_info": {
   "codemirror_mode": {
    "name": "ipython",
    "version": 3
   },
   "file_extension": ".py",
   "mimetype": "text/x-python",
   "name": "python",
   "nbconvert_exporter": "python",
   "pygments_lexer": "ipython3",
   "version": "3.11.4"
  }
 },
 "nbformat": 4,
 "nbformat_minor": 5
}
