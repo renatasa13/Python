{
 "cells": [
  {
   "cell_type": "markdown",
   "id": "18ebba59",
   "metadata": {},
   "source": [
    "# Set"
   ]
  },
  {
   "cell_type": "markdown",
   "id": "26d0c5dc",
   "metadata": {},
   "source": [
    "Set is a collection of items that are unique and without order (unordered collection). It is defined by curly braces and its elements are separated by commas. In Set we can perform unions and intersections, as well as automatically delete them"
   ]
  },
  {
   "cell_type": "code",
   "execution_count": 9,
   "id": "2df257bb",
   "metadata": {},
   "outputs": [],
   "source": [
    "a = {3,3,3,4,4,4,4,5,5,5,5,5}"
   ]
  },
  {
   "cell_type": "code",
   "execution_count": 10,
   "id": "3bfcd717",
   "metadata": {},
   "outputs": [
    {
     "name": "stdout",
     "output_type": "stream",
     "text": [
      "{3, 4, 5}\n"
     ]
    }
   ],
   "source": [
    "print(a)"
   ]
  },
  {
   "cell_type": "markdown",
   "id": "6b0c774e",
   "metadata": {},
   "source": [
    "Because sets are unordered, we cannot retrieve some of the data/data elements using the slicing process"
   ]
  },
  {
   "cell_type": "code",
   "execution_count": 11,
   "id": "b527dcc9",
   "metadata": {},
   "outputs": [
    {
     "ename": "TypeError",
     "evalue": "'set' object is not subscriptable",
     "output_type": "error",
     "traceback": [
      "\u001b[1;31m---------------------------------------------------------------------------\u001b[0m",
      "\u001b[1;31mTypeError\u001b[0m                                 Traceback (most recent call last)",
      "Cell \u001b[1;32mIn[11], line 1\u001b[0m\n\u001b[1;32m----> 1\u001b[0m \u001b[38;5;28mprint\u001b[39m(a[\u001b[38;5;241m1\u001b[39m])\n",
      "\u001b[1;31mTypeError\u001b[0m: 'set' object is not subscriptable"
     ]
    }
   ],
   "source": [
    "print(a[1])"
   ]
  },
  {
   "cell_type": "markdown",
   "id": "2e1c1e0e",
   "metadata": {},
   "source": [
    "Union"
   ]
  },
  {
   "cell_type": "code",
   "execution_count": 1,
   "id": "6ef22be3",
   "metadata": {},
   "outputs": [],
   "source": [
    "a = {1,2,3}"
   ]
  },
  {
   "cell_type": "code",
   "execution_count": 2,
   "id": "79ec9843",
   "metadata": {},
   "outputs": [],
   "source": [
    "b = {2,3,4,5}"
   ]
  },
  {
   "cell_type": "code",
   "execution_count": 3,
   "id": "be4dcb74",
   "metadata": {},
   "outputs": [
    {
     "data": {
      "text/plain": [
       "{1, 2, 3, 4, 5}"
      ]
     },
     "execution_count": 3,
     "metadata": {},
     "output_type": "execute_result"
    }
   ],
   "source": [
    "a.union(b)"
   ]
  },
  {
   "cell_type": "markdown",
   "id": "4bfb5364",
   "metadata": {},
   "source": [
    "intersection"
   ]
  },
  {
   "cell_type": "code",
   "execution_count": 4,
   "id": "e635a5d3",
   "metadata": {},
   "outputs": [
    {
     "data": {
      "text/plain": [
       "{2, 3}"
      ]
     },
     "execution_count": 4,
     "metadata": {},
     "output_type": "execute_result"
    }
   ],
   "source": [
    "a.intersection(b)"
   ]
  },
  {
   "cell_type": "markdown",
   "id": "4cac7a8e",
   "metadata": {},
   "source": [
    "Task 1"
   ]
  },
  {
   "cell_type": "code",
   "execution_count": 5,
   "id": "4fb2cb0a",
   "metadata": {},
   "outputs": [
    {
     "name": "stdout",
     "output_type": "stream",
     "text": [
      "{160, 162, 150, 155, 157}\n"
     ]
    }
   ],
   "source": [
    "#tinggi badan siswa kelas A\n",
    "klsA = {150,155,157, 160, 162}\n",
    "print(klsA)"
   ]
  },
  {
   "cell_type": "code",
   "execution_count": 6,
   "id": "78dbfb0c",
   "metadata": {},
   "outputs": [
    {
     "name": "stdout",
     "output_type": "stream",
     "text": [
      "{160, 150, 152, 156, 158}\n"
     ]
    }
   ],
   "source": [
    "#tinggi badan siswa kelas B\n",
    "klsB = {150, 152, 156, 158, 160, 160}\n",
    "print(klsB)"
   ]
  },
  {
   "cell_type": "code",
   "execution_count": 7,
   "id": "62529cab",
   "metadata": {},
   "outputs": [
    {
     "data": {
      "text/plain": [
       "{150, 152, 155, 156, 157, 158, 160, 162}"
      ]
     },
     "execution_count": 7,
     "metadata": {},
     "output_type": "execute_result"
    }
   ],
   "source": [
    "klsA.union(klsB)"
   ]
  },
  {
   "cell_type": "code",
   "execution_count": 8,
   "id": "6a1b86f2",
   "metadata": {},
   "outputs": [
    {
     "data": {
      "text/plain": [
       "{150, 160}"
      ]
     },
     "execution_count": 8,
     "metadata": {},
     "output_type": "execute_result"
    }
   ],
   "source": [
    "klsA.intersection(klsB)"
   ]
  },
  {
   "cell_type": "markdown",
   "id": "b7d57291",
   "metadata": {},
   "source": [
    "Dictionary"
   ]
  },
  {
   "cell_type": "code",
   "execution_count": 16,
   "id": "3fcdabaa",
   "metadata": {},
   "outputs": [],
   "source": [
    "a = {\"nama\" : \"Nam Do San\", \"usia\" : 25}"
   ]
  },
  {
   "cell_type": "code",
   "execution_count": 17,
   "id": "924f26ea",
   "metadata": {},
   "outputs": [
    {
     "data": {
      "text/plain": [
       "dict"
      ]
     },
     "execution_count": 17,
     "metadata": {},
     "output_type": "execute_result"
    }
   ],
   "source": [
    "type(a)"
   ]
  },
  {
   "cell_type": "code",
   "execution_count": 18,
   "id": "6a65175a",
   "metadata": {},
   "outputs": [
    {
     "data": {
      "text/plain": [
       "'Nam Do San'"
      ]
     },
     "execution_count": 18,
     "metadata": {},
     "output_type": "execute_result"
    }
   ],
   "source": [
    "a[\"nama\"]"
   ]
  },
  {
   "cell_type": "markdown",
   "id": "5a1ad2fc",
   "metadata": {},
   "source": [
    "In a dictionary, a value can only be called using the key, so if it is called using the value of the item in the key, the code will error as below."
   ]
  },
  {
   "cell_type": "code",
   "execution_count": 19,
   "id": "c092d0f7",
   "metadata": {},
   "outputs": [
    {
     "ename": "KeyError",
     "evalue": "'Nam Do San'",
     "output_type": "error",
     "traceback": [
      "\u001b[1;31m---------------------------------------------------------------------------\u001b[0m",
      "\u001b[1;31mKeyError\u001b[0m                                  Traceback (most recent call last)",
      "Cell \u001b[1;32mIn[19], line 1\u001b[0m\n\u001b[1;32m----> 1\u001b[0m a[\u001b[38;5;124m\"\u001b[39m\u001b[38;5;124mNam Do San\u001b[39m\u001b[38;5;124m\"\u001b[39m]\n",
      "\u001b[1;31mKeyError\u001b[0m: 'Nam Do San'"
     ]
    }
   ],
   "source": [
    "a[\"Nam Do San\"]"
   ]
  },
  {
   "cell_type": "code",
   "execution_count": 20,
   "id": "172e83cf",
   "metadata": {},
   "outputs": [
    {
     "data": {
      "text/plain": [
       "25"
      ]
     },
     "execution_count": 20,
     "metadata": {},
     "output_type": "execute_result"
    }
   ],
   "source": [
    "a[\"usia\"]"
   ]
  },
  {
   "cell_type": "markdown",
   "id": "2f24c6ff",
   "metadata": {},
   "source": [
    "Dictionaries are not included in the implementation of sequences so they cannot be called with index sequences. For example, in the following example it is tried with index 0, but it produces an error (KeyError) because there is no key (key) 0."
   ]
  },
  {
   "cell_type": "markdown",
   "id": "e1e40ef4",
   "metadata": {},
   "source": [
    "Task 2"
   ]
  },
  {
   "cell_type": "code",
   "execution_count": 26,
   "id": "05b64e2e",
   "metadata": {},
   "outputs": [],
   "source": [
    "#dengan Tuple\n",
    "r = {\"kelompok\" : 5, \"nama\" : (\"Ardi\", \"Nirmala\", \"Novan\", \"Renata\"), \"pathway\" : \"Data Analyst\"} "
   ]
  },
  {
   "cell_type": "code",
   "execution_count": 34,
   "id": "fadd29ec",
   "metadata": {},
   "outputs": [],
   "source": [
    "#dengan List\n",
    "r = {\"kelompok\" : 5, \"nama\" : [\"Ardi\", \"Nirmala\", \"Novan\", \"Renata\"], \"pathway\" : \"Data Analyst\"} "
   ]
  },
  {
   "cell_type": "code",
   "execution_count": 35,
   "id": "a9c0ad29",
   "metadata": {},
   "outputs": [
    {
     "name": "stdout",
     "output_type": "stream",
     "text": [
      "{'kelompok': 5, 'nama': ['Ardi', 'Nirmala', 'Novan', 'Renata'], 'pathway': 'Data Analyst'}\n"
     ]
    }
   ],
   "source": [
    "print(r)"
   ]
  },
  {
   "cell_type": "code",
   "execution_count": 36,
   "id": "43fc4b01",
   "metadata": {},
   "outputs": [
    {
     "data": {
      "text/plain": [
       "['Ardi', 'Nirmala', 'Novan', 'Renata']"
      ]
     },
     "execution_count": 36,
     "metadata": {},
     "output_type": "execute_result"
    }
   ],
   "source": [
    "r[\"nama\"]"
   ]
  },
  {
   "cell_type": "code",
   "execution_count": 44,
   "id": "aa768e8f",
   "metadata": {},
   "outputs": [
    {
     "data": {
      "text/plain": [
       "'Renata'"
      ]
     },
     "execution_count": 44,
     "metadata": {},
     "output_type": "execute_result"
    }
   ],
   "source": [
    "r[\"nama\"][3]"
   ]
  },
  {
   "cell_type": "code",
   "execution_count": null,
   "id": "c33e2f71",
   "metadata": {},
   "outputs": [],
   "source": [
    "Conditional Expressions\n",
    "\n",
    "- Di Python, expression diletakkan setelah if, dan keputuan ditentukan berdasarkan nilai kebenaran dari expression tersebut\n",
    "- Jika expression dievaluasi sebagai Tru, maka blok statement di dalam if statement akan dieksekuasi\n",
    "-  Sesuai konversi, blok ini memiliki indentasi masuk setelah tanda titik dua (:)\n",
    "- Jika expression dievaluasi sebagai false, maka block selanjutnya (setelah statement If) yang akan dijalankan"
   ]
  },
  {
   "cell_type": "code",
   "execution_count": 46,
   "id": "bd7a27f9",
   "metadata": {},
   "outputs": [
    {
     "name": "stdout",
     "output_type": "stream",
     "text": [
      "Benar namaku Ko Yu Rim\n"
     ]
    }
   ],
   "source": [
    "namaku = \"Ko Yu Rim\"\n",
    "\n",
    "if namaku:\n",
    "    print(\"Benar namaku {}\".format(namaku))"
   ]
  },
  {
   "cell_type": "code",
   "execution_count": 47,
   "id": "c3e67abb",
   "metadata": {},
   "outputs": [
    {
     "name": "stdout",
     "output_type": "stream",
     "text": [
      "Umur saya adalah 24\n"
     ]
    }
   ],
   "source": [
    "usiaku = 24\n",
    "\n",
    "if namaku:\n",
    "    print(\"Umur saya adalah {}\".format(usiaku))"
   ]
  },
  {
   "cell_type": "markdown",
   "id": "5c49263b",
   "metadata": {},
   "source": [
    "Task 3"
   ]
  },
  {
   "cell_type": "code",
   "execution_count": 49,
   "id": "2ef0136a",
   "metadata": {},
   "outputs": [
    {
     "name": "stdout",
     "output_type": "stream",
     "text": [
      "Benar, warna favoritku adalah Biru\n"
     ]
    }
   ],
   "source": [
    "warna_favorit = \"Biru\"\n",
    "\n",
    "if warna_favorit:\n",
    "    print(\"Benar, warna favoritku adalah {}\".format(warna_favorit))"
   ]
  },
  {
   "cell_type": "markdown",
   "id": "e6c8eacd",
   "metadata": {},
   "source": [
    "Task 4"
   ]
  },
  {
   "cell_type": "code",
   "execution_count": 53,
   "id": "436be819",
   "metadata": {},
   "outputs": [
    {
     "name": "stdout",
     "output_type": "stream",
     "text": [
      "Apakah Anda sedang menerima beasiswa saat ini? (Ya/Tidak)Tidak\n",
      "Anda dapat mengajukan beasiswa.\n"
     ]
    }
   ],
   "source": [
    "keterangan = input(\"Apakah Anda sedang menerima beasiswa saat ini? (Ya/Tidak)\")\n",
    "\n",
    "if keterangan == \"Ya\":\n",
    "    print(\"Anda tidak dapat mengajukan beasiswa lagi.\")\n",
    "else : \n",
    "    print(\"Anda dapat mengajukan beasiswa.\")"
   ]
  }
 ],
 "metadata": {
  "kernelspec": {
   "display_name": "Python 3 (ipykernel)",
   "language": "python",
   "name": "python3"
  },
  "language_info": {
   "codemirror_mode": {
    "name": "ipython",
    "version": 3
   },
   "file_extension": ".py",
   "mimetype": "text/x-python",
   "name": "python",
   "nbconvert_exporter": "python",
   "pygments_lexer": "ipython3",
   "version": "3.11.4"
  }
 },
 "nbformat": 4,
 "nbformat_minor": 5
}
