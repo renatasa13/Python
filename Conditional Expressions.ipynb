{
 "cells": [
  {
   "cell_type": "markdown",
   "id": "4861c964",
   "metadata": {},
   "source": [
    "# Conditional Expressions"
   ]
  },
  {
   "cell_type": "markdown",
   "id": "ddd3d86d",
   "metadata": {},
   "source": [
    "If\n",
    "* In Python, an expression follows an if, and the decision is determined based on the truth value of that expression.\n",
    "* If the expression evaluates to True, then the block of statements within the if statement will be executed.\n",
    "* As per Conversion, blocks are indented after a colon(:)\n",
    "* If the expression is evaluated as False, then the next block (after the IF statement) will be executed"
   ]
  },
  {
   "cell_type": "code",
   "execution_count": null,
   "id": "6000c82e",
   "metadata": {},
   "outputs": [],
   "source": [
    "namaku = \"Ko Yu Rin\"\n",
    "\n",
    "if namaku:\n",
    "    print(\"Benar namaku {}\" .format(namaku))"
   ]
  },
  {
   "cell_type": "code",
   "execution_count": null,
   "id": "72cb1612",
   "metadata": {},
   "outputs": [],
   "source": [
    "namaku = \"Ko Yu Rin\"\n",
    "\n",
    "if namaku:\n",
    "    print(\"nama saya adalah {}\" .format(namaku))"
   ]
  },
  {
   "cell_type": "code",
   "execution_count": null,
   "id": "ee253bfb",
   "metadata": {},
   "outputs": [],
   "source": [
    "usiaku = \"24\""
   ]
  },
  {
   "cell_type": "code",
   "execution_count": null,
   "id": "51d1686f",
   "metadata": {},
   "outputs": [],
   "source": [
    "if usiaku:\n",
    "    print(\"umur saya adalah {}\" .format(usiaku))"
   ]
  },
  {
   "cell_type": "markdown",
   "id": "68ead183",
   "metadata": {},
   "source": [
    "Else\n",
    "\n",
    "* The Else Statement can be combined with the IF Statement, as a way out when the evaluation condition/result is False.\n",
    "* Else is optional and singleton"
   ]
  },
  {
   "cell_type": "code",
   "execution_count": null,
   "id": "26122cf8",
   "metadata": {},
   "outputs": [],
   "source": [
    "pathwayku = \"Data Analyst\"\n",
    "\n",
    "if pathwayku:\n",
    "    print(\"Benar pathwayku {}\" .format(pathwayku))"
   ]
  },
  {
   "cell_type": "code",
   "execution_count": null,
   "id": "4c58b28a",
   "metadata": {},
   "outputs": [],
   "source": [
    "belajardi = \"MyEduSolve\"\n",
    "\n",
    "if belajardi:\n",
    "    print(\"Benar belajar di {}\" .format(belajardi))"
   ]
  },
  {
   "cell_type": "code",
   "execution_count": null,
   "id": "6f9ee2ee",
   "metadata": {},
   "outputs": [],
   "source": [
    "usia = int(input(\"Usia Anda: \"))"
   ]
  },
  {
   "cell_type": "code",
   "execution_count": null,
   "id": "02c44754",
   "metadata": {},
   "outputs": [],
   "source": [
    "int(input())"
   ]
  },
  {
   "cell_type": "code",
   "execution_count": null,
   "id": "24dfc56a",
   "metadata": {},
   "outputs": [],
   "source": [
    "usia = int(input(\"Usia Anda: \"))\n",
    "\n",
    "if usia >= 17:\n",
    "    print(\"Sudah punya KTP\")\n",
    "else:\n",
    "    print(\"Belum punya KTP\")"
   ]
  },
  {
   "cell_type": "markdown",
   "id": "bfd32e5c",
   "metadata": {},
   "source": [
    "Elif\n",
    "\n",
    "* Elif is short for else if\n",
    "* Elif is an alternative to nested if\n",
    "* An IF statement can be followed by one or more elif statements"
   ]
  },
  {
   "cell_type": "code",
   "execution_count": 6,
   "id": "9f589931",
   "metadata": {},
   "outputs": [
    {
     "name": "stdout",
     "output_type": "stream",
     "text": [
      "Berapa nilai Anda: 60\n",
      "Anda mendapat nilai B\n"
     ]
    }
   ],
   "source": [
    "nilai = int(input(\"Berapa nilai Anda: \"))\n",
    "\n",
    "if nilai >= 80:\n",
    "    print(\"Anda mendapat nilai A\")\n",
    "elif nilai >= 60:\n",
    "    print(\"Anda mendapat nilai B\")\n",
    "else:\n",
    "    print(\"Anda mendapat nilai anda C\")"
   ]
  },
  {
   "cell_type": "markdown",
   "id": "40e2f4ac",
   "metadata": {},
   "source": [
    "--Task 1 Bikin logic BMI pake python--"
   ]
  },
  {
   "cell_type": "code",
   "execution_count": null,
   "id": "e85e93ba",
   "metadata": {},
   "outputs": [],
   "source": [
    "berat_badan = float(input(\"berapa nilai IMT anda: \"))\n",
    "\n",
    "if berat_badan < 17:\n",
    "    print(\"sangat kurus\") \n",
    "elif berat_badan < 18.5:\n",
    "    print(\"kurus\")\n",
    "elif berat_badan < 25:\n",
    "    print(\"normal\")\n",
    "elif berat_badan <= 27:\n",
    "    print(\"gemuk\")\n",
    "else:\n",
    "    print(\"Gemuk obesitas\")"
   ]
  },
  {
   "cell_type": "code",
   "execution_count": 7,
   "id": "3f6dacaa",
   "metadata": {},
   "outputs": [
    {
     "name": "stdout",
     "output_type": "stream",
     "text": [
      "Berapa nilai IMT Anda: 18.5\n",
      "Normal\n"
     ]
    }
   ],
   "source": [
    "nilaiIMT = float(input(\"Berapa nilai IMT Anda: \"))\n",
    "\n",
    "if nilaiIMT < 17:\n",
    "    print(\"Sangat Kurus\")\n",
    "elif nilaiIMT >= 17.0 and nilaiIMT < 18.5:\n",
    "    print(\"Kurus\")\n",
    "elif nilaiIMT >= 18.5 and nilaiIMT < 25.0:\n",
    "    print(\"Normal\")\n",
    "elif nilaiIMT >= 25.0 and nilaiIMT < 27.0:\n",
    "    print(\"Gemuk overweight\")\n",
    "else:\n",
    "    print(\"Gemuk obesitas\")"
   ]
  }
 ],
 "metadata": {
  "kernelspec": {
   "display_name": "Python 3 (ipykernel)",
   "language": "python",
   "name": "python3"
  },
  "language_info": {
   "codemirror_mode": {
    "name": "ipython",
    "version": 3
   },
   "file_extension": ".py",
   "mimetype": "text/x-python",
   "name": "python",
   "nbconvert_exporter": "python",
   "pygments_lexer": "ipython3",
   "version": "3.11.4"
  }
 },
 "nbformat": 4,
 "nbformat_minor": 5
}
