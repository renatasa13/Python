{
 "cells": [
  {
   "cell_type": "markdown",
   "id": "c9ea5834",
   "metadata": {},
   "source": [
    "# List Part 2"
   ]
  },
  {
   "cell_type": "code",
   "execution_count": 1,
   "id": "68639981",
   "metadata": {},
   "outputs": [],
   "source": [
    "arr = [1,2,3]"
   ]
  },
  {
   "cell_type": "code",
   "execution_count": 2,
   "id": "b97a19f2",
   "metadata": {},
   "outputs": [
    {
     "name": "stdout",
     "output_type": "stream",
     "text": [
      "1\n"
     ]
    }
   ],
   "source": [
    "print(arr[0])"
   ]
  },
  {
   "cell_type": "markdown",
   "id": "58963533",
   "metadata": {},
   "source": [
    "append(x)\n",
    "Adds a single element x to end of a list"
   ]
  },
  {
   "cell_type": "code",
   "execution_count": 3,
   "id": "7aec41f4",
   "metadata": {},
   "outputs": [],
   "source": [
    "arr.append(9)"
   ]
  },
  {
   "cell_type": "code",
   "execution_count": 4,
   "id": "214678ee",
   "metadata": {},
   "outputs": [
    {
     "name": "stdout",
     "output_type": "stream",
     "text": [
      "[1, 2, 3, 9]\n"
     ]
    }
   ],
   "source": [
    "print(arr)"
   ]
  },
  {
   "cell_type": "markdown",
   "id": "a2a5d1c3",
   "metadata": {},
   "source": [
    "extend(L)\n",
    "Merges another list L to the end"
   ]
  },
  {
   "cell_type": "code",
   "execution_count": 5,
   "id": "d9f53850",
   "metadata": {},
   "outputs": [],
   "source": [
    "arr.extend([10,11])"
   ]
  },
  {
   "cell_type": "code",
   "execution_count": 6,
   "id": "85fe0aa5",
   "metadata": {},
   "outputs": [
    {
     "name": "stdout",
     "output_type": "stream",
     "text": [
      "[1, 2, 3, 9, 10, 11]\n"
     ]
    }
   ],
   "source": [
    "print(arr)"
   ]
  },
  {
   "cell_type": "markdown",
   "id": "b19dd8ad",
   "metadata": {},
   "source": [
    "Insert(x)\n",
    "insert element x at position\n",
    "sytax = nama_list.insert(posisi,elemen pengganti)\n",
    "example = arr.insert(3,7)"
   ]
  },
  {
   "cell_type": "code",
   "execution_count": 7,
   "id": "c6460b62",
   "metadata": {},
   "outputs": [],
   "source": [
    "arr.insert(3,7)"
   ]
  },
  {
   "cell_type": "code",
   "execution_count": 8,
   "id": "7cea464c",
   "metadata": {},
   "outputs": [
    {
     "name": "stdout",
     "output_type": "stream",
     "text": [
      "[1, 2, 3, 7, 9, 10, 11]\n"
     ]
    }
   ],
   "source": [
    "print(arr)"
   ]
  },
  {
   "cell_type": "markdown",
   "id": "0c4307f6",
   "metadata": {},
   "source": [
    "Task 1"
   ]
  },
  {
   "cell_type": "code",
   "execution_count": 16,
   "id": "7dce4d1c",
   "metadata": {},
   "outputs": [],
   "source": [
    "r = [1,2,3,4,5,6,7,8,9,10,11,12,13,14,15,16]"
   ]
  },
  {
   "cell_type": "code",
   "execution_count": 17,
   "id": "5f93db23",
   "metadata": {},
   "outputs": [],
   "source": [
    "r.append(3)"
   ]
  },
  {
   "cell_type": "code",
   "execution_count": 18,
   "id": "a4f476ae",
   "metadata": {},
   "outputs": [],
   "source": [
    "r.extend([17,19])"
   ]
  },
  {
   "cell_type": "code",
   "execution_count": 23,
   "id": "2790068a",
   "metadata": {},
   "outputs": [],
   "source": [
    "r.insert(5,20)"
   ]
  },
  {
   "cell_type": "code",
   "execution_count": 24,
   "id": "42c52632",
   "metadata": {},
   "outputs": [
    {
     "name": "stdout",
     "output_type": "stream",
     "text": [
      "[1, 2, 3, 4, 5, 20, 6, 6, 7, 8, 9, 10, 11, 12, 13, 14, 15, 16, 3, 17, 19]\n"
     ]
    }
   ],
   "source": [
    "print(r)"
   ]
  },
  {
   "cell_type": "markdown",
   "id": "5bca2120",
   "metadata": {},
   "source": [
    "delete -> memanggil indexnya untuk dihapus\n",
    "contoh : del r[0]\n",
    "remove -> memanggil value/elemennya langsung untuk dihapus\n",
    "contoh r.remove(10)\n",
    "pop -> menghapus elemen terakhir pada list\n",
    "contoh : r.pop()"
   ]
  },
  {
   "cell_type": "markdown",
   "id": "fae13c34",
   "metadata": {},
   "source": [
    "Remove\n",
    "Removes the first "
   ]
  },
  {
   "cell_type": "code",
   "execution_count": 25,
   "id": "ac3fed1a",
   "metadata": {},
   "outputs": [],
   "source": [
    "arr.remove(10)"
   ]
  },
  {
   "cell_type": "code",
   "execution_count": 26,
   "id": "e4c2f989",
   "metadata": {},
   "outputs": [
    {
     "name": "stdout",
     "output_type": "stream",
     "text": [
      "[1, 2, 3, 7, 9, 11]\n"
     ]
    }
   ],
   "source": [
    "print(arr)"
   ]
  },
  {
   "cell_type": "markdown",
   "id": "6449c9d6",
   "metadata": {},
   "source": [
    "pop()\n",
    "Remove the las element. if an argument is passed, that index item is popped out"
   ]
  },
  {
   "cell_type": "code",
   "execution_count": 27,
   "id": "b3b9f60b",
   "metadata": {},
   "outputs": [
    {
     "data": {
      "text/plain": [
       "11"
      ]
     },
     "execution_count": 27,
     "metadata": {},
     "output_type": "execute_result"
    }
   ],
   "source": [
    "arr.pop()"
   ]
  },
  {
   "cell_type": "code",
   "execution_count": 28,
   "id": "59a933b5",
   "metadata": {},
   "outputs": [
    {
     "name": "stdout",
     "output_type": "stream",
     "text": [
      "[1, 2, 3, 7, 9]\n"
     ]
    }
   ],
   "source": [
    "print(arr)"
   ]
  },
  {
   "cell_type": "markdown",
   "id": "5a6c010b",
   "metadata": {},
   "source": [
    "index(x)\n",
    "Returns the first intex of value in the list. Throws an error if its not found"
   ]
  },
  {
   "cell_type": "code",
   "execution_count": 29,
   "id": "7927076c",
   "metadata": {},
   "outputs": [
    {
     "data": {
      "text/plain": [
       "4"
      ]
     },
     "execution_count": 29,
     "metadata": {},
     "output_type": "execute_result"
    }
   ],
   "source": [
    "arr.index(9)"
   ]
  },
  {
   "cell_type": "markdown",
   "id": "a0b49346",
   "metadata": {},
   "source": [
    "count(x)\n",
    "Counts the number of occurences of an element x"
   ]
  },
  {
   "cell_type": "code",
   "execution_count": 30,
   "id": "a1e22069",
   "metadata": {},
   "outputs": [],
   "source": [
    "a = [2,1,1,1,3,5,4]"
   ]
  },
  {
   "cell_type": "code",
   "execution_count": 31,
   "id": "b0d7341e",
   "metadata": {},
   "outputs": [
    {
     "data": {
      "text/plain": [
       "3"
      ]
     },
     "execution_count": 31,
     "metadata": {},
     "output_type": "execute_result"
    }
   ],
   "source": [
    "a.count(1)"
   ]
  },
  {
   "cell_type": "markdown",
   "id": "0d981ced",
   "metadata": {},
   "source": [
    "Task 2"
   ]
  },
  {
   "cell_type": "code",
   "execution_count": 32,
   "id": "34357030",
   "metadata": {},
   "outputs": [],
   "source": [
    "r = [1,2,3,3,3,4,4,4,4,5,6,7,8,9,10,11,12,13,14,14,15,16]"
   ]
  },
  {
   "cell_type": "code",
   "execution_count": 33,
   "id": "f840a818",
   "metadata": {},
   "outputs": [],
   "source": [
    "r.remove(4)"
   ]
  },
  {
   "cell_type": "code",
   "execution_count": 34,
   "id": "7418c1a6",
   "metadata": {},
   "outputs": [
    {
     "data": {
      "text/plain": [
       "16"
      ]
     },
     "execution_count": 34,
     "metadata": {},
     "output_type": "execute_result"
    }
   ],
   "source": [
    "r.pop()"
   ]
  },
  {
   "cell_type": "code",
   "execution_count": 35,
   "id": "2e65271b",
   "metadata": {},
   "outputs": [
    {
     "data": {
      "text/plain": [
       "10"
      ]
     },
     "execution_count": 35,
     "metadata": {},
     "output_type": "execute_result"
    }
   ],
   "source": [
    "r.index(7)"
   ]
  },
  {
   "cell_type": "code",
   "execution_count": 36,
   "id": "c1f3ab74",
   "metadata": {},
   "outputs": [
    {
     "data": {
      "text/plain": [
       "3"
      ]
     },
     "execution_count": 36,
     "metadata": {},
     "output_type": "execute_result"
    }
   ],
   "source": [
    "r.count(3)"
   ]
  },
  {
   "cell_type": "code",
   "execution_count": 37,
   "id": "54ac4506",
   "metadata": {},
   "outputs": [
    {
     "name": "stdout",
     "output_type": "stream",
     "text": [
      "[1, 2, 3, 3, 3, 4, 4, 4, 5, 6, 7, 8, 9, 10, 11, 12, 13, 14, 14, 15]\n"
     ]
    }
   ],
   "source": [
    "print(r)"
   ]
  },
  {
   "cell_type": "markdown",
   "id": "df28ce5a",
   "metadata": {},
   "source": [
    "sort()\n",
    "Sorts the list"
   ]
  },
  {
   "cell_type": "code",
   "execution_count": 38,
   "id": "eb60b777",
   "metadata": {},
   "outputs": [],
   "source": [
    "a.sort()"
   ]
  },
  {
   "cell_type": "code",
   "execution_count": 39,
   "id": "085369bd",
   "metadata": {},
   "outputs": [
    {
     "name": "stdout",
     "output_type": "stream",
     "text": [
      "[1, 1, 1, 2, 3, 4, 5]\n"
     ]
    }
   ],
   "source": [
    "print(a)"
   ]
  },
  {
   "cell_type": "code",
   "execution_count": 40,
   "id": "3a7cdbee",
   "metadata": {},
   "outputs": [],
   "source": [
    "a.sort(reverse=True)"
   ]
  },
  {
   "cell_type": "code",
   "execution_count": 41,
   "id": "5c9a3283",
   "metadata": {},
   "outputs": [
    {
     "name": "stdout",
     "output_type": "stream",
     "text": [
      "[5, 4, 3, 2, 1, 1, 1]\n"
     ]
    }
   ],
   "source": [
    "print(a)"
   ]
  },
  {
   "cell_type": "markdown",
   "id": "a6589cc8",
   "metadata": {},
   "source": [
    "reverse()\n",
    "Reverse the list"
   ]
  },
  {
   "cell_type": "code",
   "execution_count": 42,
   "id": "227ba7ed",
   "metadata": {},
   "outputs": [],
   "source": [
    "a.reverse()"
   ]
  },
  {
   "cell_type": "code",
   "execution_count": 43,
   "id": "27bc377f",
   "metadata": {},
   "outputs": [
    {
     "name": "stdout",
     "output_type": "stream",
     "text": [
      "[1, 1, 1, 2, 3, 4, 5]\n"
     ]
    }
   ],
   "source": [
    "print(a)"
   ]
  },
  {
   "cell_type": "markdown",
   "id": "d39751ce",
   "metadata": {},
   "source": [
    "Task"
   ]
  },
  {
   "cell_type": "code",
   "execution_count": 51,
   "id": "e270f38d",
   "metadata": {},
   "outputs": [],
   "source": [
    "r = [2,5,1,8,7,5,9,6,4,7,2,9,4,7,6,5,2,1]"
   ]
  },
  {
   "cell_type": "code",
   "execution_count": 46,
   "id": "75bb153a",
   "metadata": {},
   "outputs": [
    {
     "name": "stdout",
     "output_type": "stream",
     "text": [
      "[1, 1, 2, 2, 2, 4, 4, 5, 5, 5, 6, 6, 7, 7, 7, 8, 9, 9]\n"
     ]
    }
   ],
   "source": [
    "r.sort()\n",
    "print(r)"
   ]
  },
  {
   "cell_type": "code",
   "execution_count": 47,
   "id": "9ce1bb91",
   "metadata": {},
   "outputs": [
    {
     "name": "stdout",
     "output_type": "stream",
     "text": [
      "[9, 9, 8, 7, 7, 7, 6, 6, 5, 5, 5, 4, 4, 2, 2, 2, 1, 1]\n"
     ]
    }
   ],
   "source": [
    "r.sort(reverse=True)\n",
    "print(r)"
   ]
  },
  {
   "cell_type": "code",
   "execution_count": 49,
   "id": "aaf3369c",
   "metadata": {},
   "outputs": [
    {
     "name": "stdout",
     "output_type": "stream",
     "text": [
      "[1, 1, 2, 2, 2, 4, 4, 5, 5, 5, 6, 6, 7, 7, 7, 8, 9, 9]\n"
     ]
    }
   ],
   "source": [
    "r.sort(reverse=False)\n",
    "print(r)"
   ]
  },
  {
   "cell_type": "code",
   "execution_count": 48,
   "id": "cc35f8ac",
   "metadata": {},
   "outputs": [
    {
     "name": "stdout",
     "output_type": "stream",
     "text": [
      "[1, 1, 2, 2, 2, 4, 4, 5, 5, 5, 6, 6, 7, 7, 7, 8, 9, 9]\n"
     ]
    }
   ],
   "source": [
    "r.reverse()\n",
    "print(r)"
   ]
  }
 ],
 "metadata": {
  "kernelspec": {
   "display_name": "Python 3 (ipykernel)",
   "language": "python",
   "name": "python3"
  },
  "language_info": {
   "codemirror_mode": {
    "name": "ipython",
    "version": 3
   },
   "file_extension": ".py",
   "mimetype": "text/x-python",
   "name": "python",
   "nbconvert_exporter": "python",
   "pygments_lexer": "ipython3",
   "version": "3.11.4"
  }
 },
 "nbformat": 4,
 "nbformat_minor": 5
}
