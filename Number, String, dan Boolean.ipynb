{
 "cells": [
  {
   "cell_type": "markdown",
   "id": "65615ca1",
   "metadata": {},
   "source": [
    "Tipe data bawaan yang ada di Python 3 \n",
    "1. Numbers\n",
    "2. String\n",
    "3. Boolean"
   ]
  },
  {
   "cell_type": "markdown",
   "id": "9e850d82",
   "metadata": {},
   "source": [
    "1. Number Tipe Numerik pada Python dibagi menjadi 3 : int, float, complex\n",
    "\n",
    "Yang membedakan integer dan float adalah titik (decimal points"
   ]
  },
  {
   "cell_type": "code",
   "execution_count": 1,
   "id": "8cd53a14",
   "metadata": {},
   "outputs": [],
   "source": [
    "a = 10"
   ]
  },
  {
   "cell_type": "code",
   "execution_count": 2,
   "id": "dda065bb",
   "metadata": {},
   "outputs": [
    {
     "data": {
      "text/plain": [
       "int"
      ]
     },
     "execution_count": 2,
     "metadata": {},
     "output_type": "execute_result"
    }
   ],
   "source": [
    "type(a)"
   ]
  },
  {
   "cell_type": "code",
   "execution_count": 3,
   "id": "072bf923",
   "metadata": {},
   "outputs": [],
   "source": [
    "b = 1.7"
   ]
  },
  {
   "cell_type": "code",
   "execution_count": 4,
   "id": "54685c5d",
   "metadata": {},
   "outputs": [
    {
     "data": {
      "text/plain": [
       "float"
      ]
     },
     "execution_count": 4,
     "metadata": {},
     "output_type": "execute_result"
    }
   ],
   "source": [
    "type (b)"
   ]
  },
  {
   "cell_type": "markdown",
   "id": "2802346e",
   "metadata": {},
   "source": [
    "Task 1 : Buat tipe data Integer dan Float"
   ]
  },
  {
   "cell_type": "code",
   "execution_count": 5,
   "id": "4dc9fc4a",
   "metadata": {},
   "outputs": [
    {
     "data": {
      "text/plain": [
       "int"
      ]
     },
     "execution_count": 5,
     "metadata": {},
     "output_type": "execute_result"
    }
   ],
   "source": [
    "x = 5\n",
    "type(x)"
   ]
  },
  {
   "cell_type": "code",
   "execution_count": 6,
   "id": "c3f60ec4",
   "metadata": {},
   "outputs": [
    {
     "data": {
      "text/plain": [
       "float"
      ]
     },
     "execution_count": 6,
     "metadata": {},
     "output_type": "execute_result"
    }
   ],
   "source": [
    "y = 5.2\n",
    "type(y)"
   ]
  },
  {
   "cell_type": "markdown",
   "id": "780f2c94",
   "metadata": {},
   "source": [
    "Karena Python banyak digunakan juga oleh matematikawan, tipe bilangan di Python juga mendukung bilangan imajiner dan bilangan kompleks. Nilai bilangan kompleks (complex) dituliskan dalam formulasi x+y yakni bagian x adalah bilangan real dan y adalah bilangan imajiner"
   ]
  },
  {
   "cell_type": "code",
   "execution_count": 7,
   "id": "1d637624",
   "metadata": {},
   "outputs": [
    {
     "data": {
      "text/plain": [
       "complex"
      ]
     },
     "execution_count": 7,
     "metadata": {},
     "output_type": "execute_result"
    }
   ],
   "source": [
    "c = 1+2j\n",
    "type(c)"
   ]
  },
  {
   "cell_type": "code",
   "execution_count": 8,
   "id": "7ecc2f76",
   "metadata": {},
   "outputs": [
    {
     "data": {
      "text/plain": [
       "complex"
      ]
     },
     "execution_count": 8,
     "metadata": {},
     "output_type": "execute_result"
    }
   ],
   "source": [
    "z = 5+5.2j\n",
    "type(z)"
   ]
  },
  {
   "cell_type": "code",
   "execution_count": 9,
   "id": "e1ca55df",
   "metadata": {},
   "outputs": [
    {
     "name": "stdout",
     "output_type": "stream",
     "text": [
      "Hello World!\n"
     ]
    },
    {
     "data": {
      "text/plain": [
       "str"
      ]
     },
     "execution_count": 9,
     "metadata": {},
     "output_type": "execute_result"
    }
   ],
   "source": [
    "a = \"Hello World!\"\n",
    "print(a)\n",
    "type(a)"
   ]
  },
  {
   "cell_type": "code",
   "execution_count": 10,
   "id": "23cad021",
   "metadata": {},
   "outputs": [
    {
     "name": "stdout",
     "output_type": "stream",
     "text": [
      "Hello World!\n"
     ]
    },
    {
     "data": {
      "text/plain": [
       "str"
      ]
     },
     "execution_count": 10,
     "metadata": {},
     "output_type": "execute_result"
    }
   ],
   "source": [
    "a = 'Hello World!'\n",
    "print(a)\n",
    "type(a)"
   ]
  },
  {
   "cell_type": "code",
   "execution_count": 14,
   "id": "11c768a4",
   "metadata": {},
   "outputs": [
    {
     "name": "stdout",
     "output_type": "stream",
     "text": [
      "Bootcamp Data Science.\n",
      "kampus Merdeka x MyEduSolve.\n",
      "Kelas D\n",
      "Bootcamp Data Science. \n",
      "Kampus Merdeka x MyEduSolve. \n",
      "Kelas D\n"
     ]
    }
   ],
   "source": [
    "a = \"\"\"Bootcamp Data Science.\n",
    "kampus Merdeka x MyEduSolve.\n",
    "Kelas D\"\"\"\n",
    "\n",
    "b = \"Bootcamp Data Science. \\nKampus Merdeka x MyEduSolve. \\nKelas D\"\n",
    "\n",
    "print(a)\n",
    "\n",
    "print(b)"
   ]
  },
  {
   "cell_type": "code",
   "execution_count": 15,
   "id": "64353300",
   "metadata": {},
   "outputs": [
    {
     "name": "stdout",
     "output_type": "stream",
     "text": [
      "Hai! Kami adalah kelompok 5 kelas D Pathway Data Analyst.\n"
     ]
    }
   ],
   "source": [
    "a = 'Hai! Kami adalah kelompok 5 kelas D Pathway Data Analyst.'\n",
    "print(a)"
   ]
  },
  {
   "cell_type": "code",
   "execution_count": 16,
   "id": "cd51d157",
   "metadata": {},
   "outputs": [
    {
     "name": "stdout",
     "output_type": "stream",
     "text": [
      "Hai! Kami adalah kelompok 5 kelas D Pathway Data Analyst.\n",
      "Beranggotakan Nirmala, Novan, Ardi, dan Renata.\n",
      "Kami berasal dari program studi yang berbeda.\n",
      "Namun, kami memilih pathway yang sama di MyEduSolve yaitu Data Analyst.\n"
     ]
    }
   ],
   "source": [
    "b = \"\"\"Hai! Kami adalah kelompok 5 kelas D Pathway Data Analyst.\n",
    "Beranggotakan Nirmala, Novan, Ardi, dan Renata.\n",
    "Kami berasal dari program studi yang berbeda.\n",
    "Namun, kami memilih pathway yang sama di MyEduSolve yaitu Data Analyst.\"\"\"\n",
    "print(b)"
   ]
  },
  {
   "cell_type": "code",
   "execution_count": 18,
   "id": "c8210711",
   "metadata": {},
   "outputs": [
    {
     "name": "stdout",
     "output_type": "stream",
     "text": [
      "Hai! Kami adalah kelompok 5 kelas D Pathway Data Analyst. \n",
      "Beranggotakan Nirmala, Novan, Ardi, dan Renata. \n",
      "Kami berasal dari program studi yang berbeda. \n",
      "Namun, kami memilih pathway yang sama di MyEduSolve yaitu Data Analyst.\n"
     ]
    }
   ],
   "source": [
    "c = \"Hai! Kami adalah kelompok 5 kelas D Pathway Data Analyst. \\nBeranggotakan Nirmala, Novan, Ardi, dan Renata. \\nKami berasal dari program studi yang berbeda. \\nNamun, kami memilih pathway yang sama di MyEduSolve yaitu Data Analyst.\"\n",
    "print(c)"
   ]
  },
  {
   "cell_type": "code",
   "execution_count": 23,
   "id": "5459d474",
   "metadata": {},
   "outputs": [
    {
     "name": "stdout",
     "output_type": "stream",
     "text": [
      "Jum'at\n"
     ]
    }
   ],
   "source": [
    "print(\"Jum'at\")"
   ]
  },
  {
   "cell_type": "markdown",
   "id": "92eebf74",
   "metadata": {},
   "source": [
    "Bool/Boolean : Tipe data bool atau boolean merupakan turunan dari bilangan bulat (integer atau int) yang hanya punya dua nilai konstanta : True dan False"
   ]
  },
  {
   "cell_type": "code",
   "execution_count": 19,
   "id": "193f1a85",
   "metadata": {},
   "outputs": [
    {
     "data": {
      "text/plain": [
       "False"
      ]
     },
     "execution_count": 19,
     "metadata": {},
     "output_type": "execute_result"
    }
   ],
   "source": [
    "2 > 5"
   ]
  },
  {
   "cell_type": "code",
   "execution_count": 20,
   "id": "d25334c9",
   "metadata": {},
   "outputs": [
    {
     "data": {
      "text/plain": [
       "False"
      ]
     },
     "execution_count": 20,
     "metadata": {},
     "output_type": "execute_result"
    }
   ],
   "source": [
    "3 == 5"
   ]
  },
  {
   "cell_type": "code",
   "execution_count": 21,
   "id": "20315823",
   "metadata": {},
   "outputs": [
    {
     "data": {
      "text/plain": [
       "True"
      ]
     },
     "execution_count": 21,
     "metadata": {},
     "output_type": "execute_result"
    }
   ],
   "source": [
    "2 <= 2"
   ]
  },
  {
   "cell_type": "code",
   "execution_count": 22,
   "id": "1e90fd83",
   "metadata": {},
   "outputs": [
    {
     "data": {
      "text/plain": [
       "True"
      ]
     },
     "execution_count": 22,
     "metadata": {},
     "output_type": "execute_result"
    }
   ],
   "source": [
    "2 != 3"
   ]
  }
 ],
 "metadata": {
  "kernelspec": {
   "display_name": "Python 3 (ipykernel)",
   "language": "python",
   "name": "python3"
  },
  "language_info": {
   "codemirror_mode": {
    "name": "ipython",
    "version": 3
   },
   "file_extension": ".py",
   "mimetype": "text/x-python",
   "name": "python",
   "nbconvert_exporter": "python",
   "pygments_lexer": "ipython3",
   "version": "3.11.4"
  }
 },
 "nbformat": 4,
 "nbformat_minor": 5
}
