{
 "cells": [
  {
   "cell_type": "markdown",
   "id": "ba025a4b",
   "metadata": {},
   "source": [
    "# Slicing on String"
   ]
  },
  {
   "cell_type": "markdown",
   "id": "91f51237",
   "metadata": {},
   "source": [
    "Because strings are similar to lists, the slicing operator [] can also be used on strings to retrieve their contents or even substrings. A whole string is mutable (can be changed), but elements are usually immutable (cannot be changed)."
   ]
  },
  {
   "cell_type": "code",
   "execution_count": 1,
   "id": "a821301f",
   "metadata": {},
   "outputs": [
    {
     "name": "stdout",
     "output_type": "stream",
     "text": [
      "t\n"
     ]
    }
   ],
   "source": [
    "a = \"Data Science\"\n",
    "\n",
    "print(a[2])\n",
    "#ambil karakter ketiga dari dari string a"
   ]
  },
  {
   "cell_type": "code",
   "execution_count": 2,
   "id": "9a2c41c8",
   "metadata": {},
   "outputs": [
    {
     "name": "stdout",
     "output_type": "stream",
     "text": [
      "Science\n"
     ]
    }
   ],
   "source": [
    "print(a[5:12])\n",
    "#ambil karakter keenam hingga duabbelas dari string a"
   ]
  },
  {
   "cell_type": "markdown",
   "id": "f5e3bcf5",
   "metadata": {},
   "source": [
    "Because elements in strings cannot be replaced, when we try to replace them, the code will error as below"
   ]
  },
  {
   "cell_type": "code",
   "execution_count": 3,
   "id": "baccb49d",
   "metadata": {},
   "outputs": [
    {
     "ename": "TypeError",
     "evalue": "'str' object does not support item assignment",
     "output_type": "error",
     "traceback": [
      "\u001b[1;31m---------------------------------------------------------------------------\u001b[0m",
      "\u001b[1;31mTypeError\u001b[0m                                 Traceback (most recent call last)",
      "Cell \u001b[1;32mIn[3], line 1\u001b[0m\n\u001b[1;32m----> 1\u001b[0m a[\u001b[38;5;241m3\u001b[39m] \u001b[38;5;241m=\u001b[39m \u001b[38;5;124m\"\u001b[39m\u001b[38;5;124mo\u001b[39m\u001b[38;5;124m\"\u001b[39m\n",
      "\u001b[1;31mTypeError\u001b[0m: 'str' object does not support item assignment"
     ]
    }
   ],
   "source": [
    "a[3] = \"o\""
   ]
  },
  {
   "cell_type": "code",
   "execution_count": null,
   "id": "97d95300",
   "metadata": {},
   "outputs": [],
   "source": [
    "print(a)"
   ]
  },
  {
   "cell_type": "code",
   "execution_count": 4,
   "id": "766f14b3",
   "metadata": {},
   "outputs": [],
   "source": [
    "b = [\"d\", \"a\", \"t\", \"a\"]"
   ]
  },
  {
   "cell_type": "code",
   "execution_count": 5,
   "id": "a6b2d577",
   "metadata": {},
   "outputs": [],
   "source": [
    "b[3] = \"o\""
   ]
  },
  {
   "cell_type": "code",
   "execution_count": 6,
   "id": "02a691f3",
   "metadata": {},
   "outputs": [
    {
     "name": "stdout",
     "output_type": "stream",
     "text": [
      "['d', 'a', 't', 'o']\n"
     ]
    }
   ],
   "source": [
    "print(b)"
   ]
  },
  {
   "cell_type": "markdown",
   "id": "ba0ad6d6",
   "metadata": {},
   "source": [
    "Task 3"
   ]
  },
  {
   "cell_type": "code",
   "execution_count": 7,
   "id": "7b0314dc",
   "metadata": {},
   "outputs": [],
   "source": [
    "m = \"Jawa Timur\""
   ]
  },
  {
   "cell_type": "code",
   "execution_count": 8,
   "id": "456d5c13",
   "metadata": {},
   "outputs": [
    {
     "name": "stdout",
     "output_type": "stream",
     "text": [
      "a\n"
     ]
    }
   ],
   "source": [
    "print(m[3])"
   ]
  },
  {
   "cell_type": "code",
   "execution_count": 14,
   "id": "4e5c75f5",
   "metadata": {},
   "outputs": [
    {
     "name": "stdout",
     "output_type": "stream",
     "text": [
      "wa Ti\n"
     ]
    }
   ],
   "source": [
    "print(m[2:7])"
   ]
  },
  {
   "cell_type": "code",
   "execution_count": 10,
   "id": "003f736c",
   "metadata": {},
   "outputs": [],
   "source": [
    "n = [\"m\", \"a\", \"l\", \"a\", \"n\", \"g\"]"
   ]
  },
  {
   "cell_type": "code",
   "execution_count": 12,
   "id": "97334358",
   "metadata": {},
   "outputs": [],
   "source": [
    "n[2] = \"d\""
   ]
  },
  {
   "cell_type": "code",
   "execution_count": 13,
   "id": "c37418e3",
   "metadata": {},
   "outputs": [
    {
     "name": "stdout",
     "output_type": "stream",
     "text": [
      "['m', 'a', 'd', 'a', 'n', 'g']\n"
     ]
    }
   ],
   "source": [
    "print(n)"
   ]
  }
 ],
 "metadata": {
  "kernelspec": {
   "display_name": "Python 3 (ipykernel)",
   "language": "python",
   "name": "python3"
  },
  "language_info": {
   "codemirror_mode": {
    "name": "ipython",
    "version": 3
   },
   "file_extension": ".py",
   "mimetype": "text/x-python",
   "name": "python",
   "nbconvert_exporter": "python",
   "pygments_lexer": "ipython3",
   "version": "3.11.4"
  }
 },
 "nbformat": 4,
 "nbformat_minor": 5
}
